{
 "cells": [
  {
   "cell_type": "code",
   "execution_count": 1,
   "id": "d4f23016",
   "metadata": {},
   "outputs": [
    {
     "name": "stdout",
     "output_type": "stream",
     "text": [
      "Dataset Shape: (45312, 9)\n",
      "First 5 Rows of the Dataset:\n",
      "   date  day    period  nswprice  nswdemand  vicprice  vicdemand  transfer  \\\n",
      "0   0.0    2  0.000000  0.056443   0.439155  0.003467   0.422915  0.414912   \n",
      "1   0.0    2  0.021277  0.051699   0.415055  0.003467   0.422915  0.414912   \n",
      "2   0.0    2  0.042553  0.051489   0.385004  0.003467   0.422915  0.414912   \n",
      "3   0.0    2  0.063830  0.045485   0.314639  0.003467   0.422915  0.414912   \n",
      "4   0.0    2  0.085106  0.042482   0.251116  0.003467   0.422915  0.414912   \n",
      "\n",
      "  class  \n",
      "0    UP  \n",
      "1    UP  \n",
      "2    UP  \n",
      "3    UP  \n",
      "4  DOWN  \n",
      "Accuracy: 0.91\n",
      "Confusion Matrix:\n",
      "[[4848  343]\n",
      " [ 507 3365]]\n",
      "Classification Report:\n",
      "              precision    recall  f1-score   support\n",
      "\n",
      "        DOWN       0.91      0.93      0.92      5191\n",
      "          UP       0.91      0.87      0.89      3872\n",
      "\n",
      "    accuracy                           0.91      9063\n",
      "   macro avg       0.91      0.90      0.90      9063\n",
      "weighted avg       0.91      0.91      0.91      9063\n",
      "\n"
     ]
    }
   ],
   "source": [
    "# Import necessary libraries\n",
    "import pandas as pd\n",
    "import numpy as np\n",
    "from sklearn.model_selection import train_test_split\n",
    "from sklearn.ensemble import RandomForestClassifier\n",
    "from sklearn.metrics import accuracy_score, classification_report, confusion_matrix\n",
    "\n",
    "# Load the dataset from the local CSV file\n",
    "file_path = \"electricity_csv.csv\"\n",
    "data = pd.read_csv(file_path)\n",
    "\n",
    "# Explore the dataset\n",
    "print(\"Dataset Shape:\", data.shape)\n",
    "print(\"First 5 Rows of the Dataset:\")\n",
    "print(data.head())\n",
    "\n",
    "# Split the data into features (X) and the target variable (y)\n",
    "y = data['class']\n",
    "X = data.drop(columns=['class'])\n",
    "\n",
    "# Split the data into training and testing sets\n",
    "X_train, X_test, y_train, y_test = train_test_split(X, y, test_size=0.2, random_state=42)\n",
    "\n",
    "# Create a Random Forest Classifier\n",
    "classifier = RandomForestClassifier(random_state=42)\n",
    "\n",
    "# Fit the classifier on the training data\n",
    "classifier.fit(X_train, y_train)\n",
    "\n",
    "# Make predictions on the test set\n",
    "y_pred = classifier.predict(X_test)\n",
    "\n",
    "# Evaluate the classifier\n",
    "accuracy = accuracy_score(y_test, y_pred)\n",
    "conf_matrix = confusion_matrix(y_test, y_pred)\n",
    "class_report = classification_report(y_test, y_pred)\n",
    "\n",
    "print(f\"Accuracy: {accuracy:.2f}\")\n",
    "print(\"Confusion Matrix:\")\n",
    "print(conf_matrix)\n",
    "print(\"Classification Report:\")\n",
    "print(class_report)\n"
   ]
  },
  {
   "cell_type": "code",
   "execution_count": null,
   "id": "32e01b57",
   "metadata": {},
   "outputs": [],
   "source": []
  }
 ],
 "metadata": {
  "kernelspec": {
   "display_name": "Python 3 (ipykernel)",
   "language": "python",
   "name": "python3"
  },
  "language_info": {
   "codemirror_mode": {
    "name": "ipython",
    "version": 3
   },
   "file_extension": ".py",
   "mimetype": "text/x-python",
   "name": "python",
   "nbconvert_exporter": "python",
   "pygments_lexer": "ipython3",
   "version": "3.9.13"
  }
 },
 "nbformat": 4,
 "nbformat_minor": 5
}
