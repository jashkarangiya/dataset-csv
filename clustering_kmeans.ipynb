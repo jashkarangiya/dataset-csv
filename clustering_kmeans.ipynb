{
 "cells": [
  {
   "cell_type": "code",
   "execution_count": null,
   "metadata": {},
   "outputs": [],
   "source": [
    "import pandas as pd\n",
    "import numpy as np\n",
    "from sklearn.cluster import KMeans\n",
    "from sklearn.preprocessing import StandardScaler\n",
    "import matplotlib.pyplot as plt\n",
    "\n",
    "# Load your dataset (replace 'your_dataset.csv' with your file path)\n",
    "data = pd.read_csv('your_dataset.csv')\n",
    "\n",
    "# Perform any necessary preprocessing\n",
    "# Example: Removing or filling missing values\n",
    "data = data.dropna()\n",
    "\n",
    "# Columns na naam lakho jenu clustering karvu che tamare e\n",
    "# Example: \n",
    "features = data[['Feature1', 'Feature2', 'Feature3']]\n",
    "\n",
    "# Standardize the features if needed\n",
    "scaler = StandardScaler()\n",
    "data_scaled = scaler.fit_transform(features)\n",
    "\n",
    "# Initialize and fit the K-Means model\n",
    "kmeans = KMeans(n_clusters=3, random_state=0)  # You can change the number of clusters (n_clusters) as needed\n",
    "kmeans.fit(data_scaled)\n",
    "\n",
    "# Add the cluster labels to your dataset\n",
    "data['Cluster_Labels'] = kmeans.labels_\n",
    "\n",
    "# Visualize the clusters or perform further analysis\n",
    "# Example: Plot a scatter plot of your clusters\n",
    "plt.scatter(data['Feature1'], data['Feature2'], c=data['Cluster_Labels'], cmap='viridis')\n",
    "plt.title('K-Means Clustering')\n",
    "plt.show()\n"
   ]
  }
 ],
 "metadata": {
  "language_info": {
   "name": "python"
  }
 },
 "nbformat": 4,
 "nbformat_minor": 2
}
